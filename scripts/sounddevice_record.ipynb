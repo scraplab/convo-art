{
 "cells": [
  {
   "cell_type": "markdown",
   "metadata": {
    "collapsed": false
   },
   "source": [
    "# Live Transcriber (sounddevice version)\n",
    "This script is for finding the Scarlett and recording audio from it. It will then transcribe the audio and save the text to a csv file in real time.\n",
    "\n",
    "It also implements multithreading so that the recording and transcription can happen simultaneously.\n",
    "\n",
    "\n",
    "# Game Plan\n",
    "- Only one recording thread. The thread is continuously listening and internally checks if each channel is speaking, with speaker status being independent between the channels. \n",
    "- At the end of a chunk on a given channel, the accumulated recording is then sent to a transcriber thread. \n",
    "- So, at any given time, only one recording thread is activated while a number of transcriber threads can be operating. \n",
    "- ThreadLock will be used to save data to .csv. "
   ]
  },
  {
   "cell_type": "code",
   "execution_count": 6,
   "metadata": {
    "ExecuteTime": {
     "end_time": "2023-09-29T18:53:34.570276Z",
     "start_time": "2023-09-29T18:53:29.093705Z"
    },
    "collapsed": false
   },
   "outputs": [],
   "source": [
    "import wave\n",
    "import audioop\n",
    "import os\n",
    "import pandas as pd\n",
    "import numpy as np\n",
    "import time as tm\n",
    "import whisper\n",
    "from transcriber import transcribe\n",
    "import threading\n",
    "from pathlib import Path\n",
    "import queue\n",
    "import sounddevice as sd\n",
    "from scipy.io.wavfile import write\n",
    "import soundfile as sf\n",
    "import librosa\n",
    "import matplotlib.pyplot as plt\n",
    "import librosa.display\n",
    "import IPython.display as ipd"
   ]
  },
  {
   "cell_type": "code",
   "execution_count": 7,
   "metadata": {
    "ExecuteTime": {
     "end_time": "2023-09-29T18:53:44.761925Z",
     "start_time": "2023-09-29T18:53:44.753822Z"
    }
   },
   "outputs": [
    {
     "name": "stdout",
     "output_type": "stream",
     "text": [
      "Using device 1: Scarlett 2i2 USB\n"
     ]
    }
   ],
   "source": [
    "#find the Scarlett\n",
    "devices = sd.query_devices()\n",
    "device_index = None\n",
    "for i, device_info in enumerate(devices):\n",
    "    if \"Scarlett\" in device_info[\"name\"] and device_info[\"max_input_channels\"] > 0:\n",
    "        device_index = i\n",
    "        break\n",
    "\n",
    "if device_index is None:\n",
    "    raise RuntimeError(\"Could not find Scarlett device\")\n",
    "else:\n",
    "    print(f'Using device {device_index}: {devices[device_index][\"name\"]}')"
   ]
  },
  {
   "cell_type": "code",
   "execution_count": 18,
   "metadata": {
    "ExecuteTime": {
     "end_time": "2023-09-29T19:15:51.873899Z",
     "start_time": "2023-09-29T19:15:51.839068Z"
    }
   },
   "outputs": [],
   "source": [
    "CHANNELS = 2\n",
    "global RATE\n",
    "RATE = 16000\n",
    "#global CHUNK\n",
    "#CHUNK = 400\n",
    "global BLOCKSIZE\n",
    "BLOCKSIZE = 400\n",
    "THRESHOLD = 0.001  # Adjust this value based on your microphone and environment\n",
    "AUDIOFILE_PATH = '/Users/f004swn/Dropbox (Dartmouth College)/scrap_hack/ArtsIntegrationHack/scripts/audio_outputs'\n",
    "GAP = 2 # Length of silence allowed before cut\n",
    "SESSION_TIME = 3 # number of mins the session can be\n",
    "AUDIOFILE_PATH = '/Users/f004swn/Dropbox (Dartmouth College)/scrap_hack/ArtsIntegrationHack/scripts/audio_outputs'\n",
    "SESSION_ACTIVE = True\n",
    "MINIMUM_UTTERANCE_LENGTH = 1 # in seconds"
   ]
  },
  {
   "cell_type": "code",
   "execution_count": 13,
   "metadata": {},
   "outputs": [],
   "source": [
    "transcripts = {}\n",
    "global transcription_queue\n",
    "transcription_queue = queue.Queue()"
   ]
  },
  {
   "cell_type": "markdown",
   "metadata": {},
   "source": [
    "# Setting up the callback\n",
    "The `sounddevice` library can record by passing a callback function to the `sd.InputStream` stream. It is in the callback that you are doing the listening, speaking status detection, and writing of data. This will run continuously and pass chunks of audio to the transriber threads, which handle transcription and saving of the audio and text."
   ]
  },
  {
   "cell_type": "code",
   "execution_count": 14,
   "metadata": {},
   "outputs": [],
   "source": [
    "def rms(data):\n",
    "    return np.sqrt(np.mean(np.square(data)))"
   ]
  },
  {
   "cell_type": "code",
   "execution_count": 26,
   "metadata": {},
   "outputs": [],
   "source": [
    "class RecorderThread(threading.Thread):\n",
    "    def __init__(self):\n",
    "        super(RecorderThread, self).__init__()\n",
    "        self.channel1_recording, self.channel2_recording = False, False\n",
    "        self.ch1_data, self.ch2_data = np.array([]), np.array([])\n",
    "        self.ch1_last, self.ch2_last = tm.time(), tm.time()\n",
    "        self.ch1_start, self.ch2_start = None, None\n",
    "\n",
    "    def record_dyad(self, indata, frames, time, status=None):\n",
    "        # Get channel data and calulate RMS for each channel separately\n",
    "        channel1_rms, channel2_rms = rms(indata[:, 0]), rms(indata[:, 1])\n",
    "\n",
    "        # channel 1 control block\n",
    "        if channel1_rms > THRESHOLD:\n",
    "            if self.channel1_recording == False:\n",
    "                print('channel 1 recording')\n",
    "                self.ch1_last = tm.time()\n",
    "                self.channel1_recording = True\n",
    "                self.ch1_start = tm.time()\n",
    "                self.ch1_data = np.concatenate((self.ch1_data, indata[:, 0]))\n",
    "            else:\n",
    "                self.ch1_last = tm.time()\n",
    "                self.ch1_data = np.concatenate((self.ch1_data, indata[:, 0]))\n",
    "        else:\n",
    "            if self.channel1_recording == True:\n",
    "                if (tm.time() - self.ch1_last > GAP):\n",
    "                    self.channel1_recording = False\n",
    "                    packet = {'channel': 1, 'data': self.ch1_data, 'start_time': self.ch1_start, 'end_time': self.ch1_last}\n",
    "                    self.ch1_data = np.array([])\n",
    "                    transcription_queue.put(packet)\n",
    "                    self.ch1_start, self.ch1_last = None, None\n",
    "            else:\n",
    "                pass\n",
    "\n",
    "        # channel 2 control block\n",
    "        if channel2_rms > THRESHOLD:\n",
    "            if self.channel2_recording == False:\n",
    "                print('channel 2 recording')\n",
    "                self.ch2_last = tm.time()\n",
    "                self.channel2_recording = True\n",
    "                self.ch2_start = tm.time()\n",
    "                self.ch2_data = np.concatenate((self.ch2_data, indata[:, 1]))\n",
    "            else:\n",
    "                self.ch2_last = tm.time()\n",
    "                self.ch2_data = np.concatenate((self.ch2_data, indata[:, 1]))\n",
    "        else:\n",
    "            if self.channel2_recording == True:\n",
    "                if (tm.time() - self.ch2_last > GAP):\n",
    "                    self.channel2_recording = False\n",
    "                    packet = {'channel': 2, 'data': self.ch2_data, 'start_time': self.ch2_start, 'end_time': self.ch2_last}\n",
    "                    self.ch2_data = np.array([])\n",
    "                    transcription_queue.put(packet)\n",
    "                    self.ch2_start, self.ch2_last = None, None\n",
    "            else:\n",
    "                pass\n",
    "\n",
    "    def run(self):\n",
    "        with sd.InputStream(channels=CHANNELS, device=device_index, callback=self.record_dyad, blocksize=BLOCKSIZE, samplerate=RATE):\n",
    "            while True:\n",
    "                # run until the session is over\n",
    "                if SESSION_ACTIVE == False:\n",
    "                    print('session over')       \n",
    "                    break"
   ]
  },
  {
   "cell_type": "code",
   "execution_count": 17,
   "metadata": {},
   "outputs": [
    {
     "data": {
      "text/plain": [
       "<matplotlib.lines.Line2D at 0x7ff230843370>"
      ]
     },
     "execution_count": 17,
     "metadata": {},
     "output_type": "execute_result"
    },
    {
     "data": {
      "image/png": "[encoded data removed]",
      "text/plain": [
       "<Figure size 640x480 with 1 Axes>"
      ]
     },
     "metadata": {},
     "output_type": "display_data"
    }
   ],
   "source": [
    "# record from channel 1 for 10 seconds to get rms values and then visualize them\n",
    "rms_vals = []\n",
    "start = tm.time()\n",
    "with sd.InputStream(channels=CHANNELS, device=device_index, blocksize=BLOCKSIZE, samplerate=RATE) as stream:\n",
    "    while True:\n",
    "        data = stream.read(400)[0]\n",
    "        data = data[:, 1]\n",
    "        rms_val = rms(data)\n",
    "        rms_vals.append(rms_val)\n",
    "        if tm.time() - start > 10:\n",
    "            break\n",
    "\n",
    "plt.plot(rms_vals)\n",
    "# plot a horizontal line at the threshold value\n",
    "plt.axhline(y=0.0015, color='r', linestyle='-')"
   ]
  },
  {
   "cell_type": "code",
   "execution_count": 8,
   "metadata": {},
   "outputs": [
    {
     "data": {
      "image/png": "[encoded data removed]",
      "text/plain": [
       "<Figure size 640x480 with 1 Axes>"
      ]
     },
     "metadata": {},
     "output_type": "display_data"
    }
   ],
   "source": [
    "plt.hist(rms_vals, bins=100);"
   ]
  },
  {
   "cell_type": "code",
   "execution_count": 27,
   "metadata": {},
   "outputs": [],
   "source": [
    "global n_utterances\n",
    "n_utterances = 0\n",
    "def process_transcription(data_dict):\n",
    "    # do nothing if the audio is too short\n",
    "    global n_utterances\n",
    "    n_utterances += 1\n",
    "    # save audio file to disk\n",
    "    filename = f'utterance_{n_utterances}.wav'\n",
    "    filepath = os.path.join(AUDIOFILE_PATH, filename)\n",
    "    write(filepath, RATE, data_dict['data'])\n",
    "    data_dict['filepath'] = filepath\n",
    "    transcription = transcribe(filepath)\n",
    "    data_dict['transcription'] = transcription\n",
    "    # delete the audio data from the data_dict\n",
    "    del data_dict['data']\n",
    "    return n_utterances, data_dict"
   ]
  },
  {
   "cell_type": "code",
   "execution_count": 29,
   "metadata": {},
   "outputs": [
    {
     "name": "stdout",
     "output_type": "stream",
     "text": [
      "Session started, begin sleeping.\n",
      "channel 1 recording\n",
      "channel 2 recording\n",
      "channel 2 recording\n",
      "channel 2 recording\n"
     ]
    },
    {
     "name": "stderr",
     "output_type": "stream",
     "text": [
      "Exception in thread Thread-4:\n",
      "Traceback (most recent call last):\n",
      "  File \"/Users/f004swn/anaconda3/envs/scrap_hack/lib/python3.8/threading.py\", line 932, in _bootstrap_inner\n",
      "    self.run()\n",
      "  File \"/Users/f004swn/anaconda3/envs/scrap_hack/lib/python3.8/threading.py\", line 870, in run\n",
      "    self._target(*self._args, **self._kwargs)\n",
      "  File \"/var/folders/l2/ydrm4wvj4fv10hb243tjbs0c0000gn/T/ipykernel_71259/1695041775.py\", line 10, in transcribe_data\n",
      "  File \"/var/folders/l2/ydrm4wvj4fv10hb243tjbs0c0000gn/T/ipykernel_71259/3766282363.py\", line 12, in process_transcription\n",
      "  File \"/Users/f004swn/Dropbox (Dartmouth College)/scrap_hack/ArtsIntegrationHack/scripts/transcriber.py\", line 24, in transcribe\n",
      "    result = whisper.decode(model, mel, options)\n",
      "  File \"/Users/f004swn/anaconda3/envs/scrap_hack/lib/python3.8/site-packages/torch/utils/_contextlib.py\", line 115, in decorate_context\n",
      "    return func(*args, **kwargs)\n",
      "  File \"/Users/f004swn/anaconda3/envs/scrap_hack/lib/python3.8/site-packages/whisper/decoding.py\", line 819, in decode\n",
      "    result = DecodingTask(model, options).run(mel)\n",
      "  File \"/Users/f004swn/anaconda3/envs/scrap_hack/lib/python3.8/site-packages/torch/utils/_contextlib.py\", line 115, in decorate_context\n",
      "    return func(*args, **kwargs)\n",
      "  File \"/Users/f004swn/anaconda3/envs/scrap_hack/lib/python3.8/site-packages/whisper/decoding.py\", line 732, in run\n",
      "    tokens, sum_logprobs, no_speech_probs = self._main_loop(audio_features, tokens)\n",
      "  File \"/Users/f004swn/anaconda3/envs/scrap_hack/lib/python3.8/site-packages/whisper/decoding.py\", line 682, in _main_loop\n",
      "    logits = self.inference.logits(tokens, audio_features)\n",
      "  File \"/Users/f004swn/anaconda3/envs/scrap_hack/lib/python3.8/site-packages/whisper/decoding.py\", line 161, in logits\n",
      "    return self.model.decoder(tokens, audio_features, kv_cache=self.kv_cache)\n",
      "  File \"/Users/f004swn/anaconda3/envs/scrap_hack/lib/python3.8/site-packages/torch/nn/modules/module.py\", line 1501, in _call_impl\n",
      "    return forward_call(*args, **kwargs)\n",
      "  File \"/Users/f004swn/anaconda3/envs/scrap_hack/lib/python3.8/site-packages/whisper/model.py\", line 211, in forward\n",
      "    x = block(x, xa, mask=self.mask, kv_cache=kv_cache)\n",
      "  File \"/Users/f004swn/anaconda3/envs/scrap_hack/lib/python3.8/site-packages/torch/nn/modules/module.py\", line 1501, in _call_impl\n",
      "    return forward_call(*args, **kwargs)\n",
      "  File \"/Users/f004swn/anaconda3/envs/scrap_hack/lib/python3.8/site-packages/whisper/model.py\", line 136, in forward\n",
      "    x = x + self.attn(self.attn_ln(x), mask=mask, kv_cache=kv_cache)[0]\n",
      "  File \"/Users/f004swn/anaconda3/envs/scrap_hack/lib/python3.8/site-packages/torch/nn/modules/module.py\", line 1501, in _call_impl\n",
      "    return forward_call(*args, **kwargs)\n",
      "  File \"/Users/f004swn/anaconda3/envs/scrap_hack/lib/python3.8/site-packages/whisper/model.py\", line 90, in forward\n",
      "    wv, qk = self.qkv_attention(q, k, v, mask)\n",
      "  File \"/Users/f004swn/anaconda3/envs/scrap_hack/lib/python3.8/site-packages/whisper/model.py\", line 104, in qkv_attention\n",
      "    qk = qk + mask[:n_ctx, :n_ctx]\n",
      "RuntimeError: The size of tensor a (11) must match the size of tensor b (3) at non-singleton dimension 3\n"
     ]
    },
    {
     "name": "stdout",
     "output_type": "stream",
     "text": [
      "testing testing\n"
     ]
    },
    {
     "ename": "KeyboardInterrupt",
     "evalue": "",
     "output_type": "error",
     "traceback": [
      "\u001b[0;31m---------------------------------------------------------------------------\u001b[0m",
      "\u001b[0;31mKeyboardInterrupt\u001b[0m                         Traceback (most recent call last)",
      "\u001b[1;32m/Users/f004swn/Dropbox (Dartmouth College)/scrap_hack/ArtsIntegrationHack/scripts/sounddevice_record.ipynb Cell 12\u001b[0m line \u001b[0;36m3\n\u001b[1;32m     <a href='vscode-notebook-cell:/Users/f004swn/Dropbox%20%28Dartmouth%20College%29/scrap_hack/ArtsIntegrationHack/scripts/sounddevice_record.ipynb#X14sZmlsZQ%3D%3D?line=35'>36</a>\u001b[0m \u001b[39m# wait 30 seconds then stop all the threads\u001b[39;00m\n\u001b[1;32m     <a href='vscode-notebook-cell:/Users/f004swn/Dropbox%20%28Dartmouth%20College%29/scrap_hack/ArtsIntegrationHack/scripts/sounddevice_record.ipynb#X14sZmlsZQ%3D%3D?line=36'>37</a>\u001b[0m \u001b[39mprint\u001b[39m(\u001b[39m'\u001b[39m\u001b[39mSession started, begin sleeping.\u001b[39m\u001b[39m'\u001b[39m)\n\u001b[0;32m---> <a href='vscode-notebook-cell:/Users/f004swn/Dropbox%20%28Dartmouth%20College%29/scrap_hack/ArtsIntegrationHack/scripts/sounddevice_record.ipynb#X14sZmlsZQ%3D%3D?line=37'>38</a>\u001b[0m tm\u001b[39m.\u001b[39;49msleep(\u001b[39m30\u001b[39;49m)\n\u001b[1;32m     <a href='vscode-notebook-cell:/Users/f004swn/Dropbox%20%28Dartmouth%20College%29/scrap_hack/ArtsIntegrationHack/scripts/sounddevice_record.ipynb#X14sZmlsZQ%3D%3D?line=38'>39</a>\u001b[0m \u001b[39mprint\u001b[39m(\u001b[39m'\u001b[39m\u001b[39mEnding session.\u001b[39m\u001b[39m'\u001b[39m)\n\u001b[1;32m     <a href='vscode-notebook-cell:/Users/f004swn/Dropbox%20%28Dartmouth%20College%29/scrap_hack/ArtsIntegrationHack/scripts/sounddevice_record.ipynb#X14sZmlsZQ%3D%3D?line=39'>40</a>\u001b[0m SESSION_ACTIVE \u001b[39m=\u001b[39m \u001b[39mFalse\u001b[39;00m\n",
      "\u001b[0;31mKeyboardInterrupt\u001b[0m: "
     ]
    }
   ],
   "source": [
    "\n",
    "# Function that will process the data\n",
    "def transcribe_data():\n",
    "    while True:\n",
    "        # Get data from the queue, block if necessary until an item is available\n",
    "        utterance_dict = transcription_queue.get()\n",
    "        if utterance_dict is None:\n",
    "            continue  # None is the signal to stop\n",
    "\n",
    "        \n",
    "        out = process_transcription(utterance_dict)\n",
    "        if out is None:\n",
    "            continue\n",
    "        else:\n",
    "            utter_n, utterance_info = out\n",
    "        print(utterance_info['transcription'])\n",
    "        transcripts[utter_n] = utterance_info\n",
    "\n",
    "        # Signal that the task is done\n",
    "        transcription_queue.task_done()\n",
    "\n",
    "SESSION_ACTIVE = True\n",
    "\n",
    "# Number of worker threads\n",
    "num_worker_threads = 3\n",
    "\n",
    "# Create and start the data processing threads\n",
    "workers = []\n",
    "for i in range(num_worker_threads):\n",
    "    t = threading.Thread(target=transcribe_data)\n",
    "    t.start()\n",
    "    workers.append(t)\n",
    "\n",
    "recorder = RecorderThread()\n",
    "recorder.start()\n",
    "\n",
    "# wait 30 seconds then stop all the threads\n",
    "print('Session started, begin sleeping.')\n",
    "tm.sleep(30)\n",
    "print('Ending session.')\n",
    "SESSION_ACTIVE = False\n",
    "recorder.join()\n",
    "for t in tqdm(workers):\n",
    "    t.join()\n",
    "    \n",
    "# # Once done collecting data, join on the queue to allow processing to finish\n",
    "# data_queue.join()\n",
    "\n",
    "# # Stop the worker threads by putting None into the queue for each worker\n",
    "# for i in range(num_worker_threads):\n",
    "#     data_queue.put(None)\n",
    "# for t in workers:\n",
    "#     t.join()\n"
   ]
  },
  {
   "cell_type": "code",
   "execution_count": 10,
   "metadata": {},
   "outputs": [],
   "source": [
    "# clear the queue \n",
    "while not transcription_queue.empty():\n",
    "    transcription_queue.get()\n",
    "    transcription_queue.task_done()"
   ]
  },
  {
   "cell_type": "code",
   "execution_count": 30,
   "metadata": {},
   "outputs": [
    {
     "data": {
      "text/plain": [
       "True"
      ]
     },
     "execution_count": 30,
     "metadata": {},
     "output_type": "execute_result"
    },
    {
     "name": "stdout",
     "output_type": "stream",
     "text": [
      "channel 2 recording\n",
      "Why is this happening?\n"
     ]
    }
   ],
   "source": [
    "transcription_queue.empty()"
   ]
  },
  {
   "cell_type": "code",
   "execution_count": 31,
   "metadata": {},
   "outputs": [
    {
     "data": {
      "text/plain": [
       "{2: {'channel': 2,\n",
       "  'start_time': 1699279901.775316,\n",
       "  'end_time': 1699279901.775312,\n",
       "  'filepath': '/Users/f004swn/Dropbox (Dartmouth College)/scrap_hack/ArtsIntegrationHack/scripts/audio_outputs/utterance_1.wav',\n",
       "  'transcription': 'testing testing'},\n",
       " 3: {'channel': 2,\n",
       "  'start_time': 1699279912.775713,\n",
       "  'end_time': 1699279912.775711,\n",
       "  'filepath': '/Users/f004swn/Dropbox (Dartmouth College)/scrap_hack/ArtsIntegrationHack/scripts/audio_outputs/utterance_3.wav',\n",
       "  'transcription': 'Why is this happening?'}}"
      ]
     },
     "execution_count": 31,
     "metadata": {},
     "output_type": "execute_result"
    },
    {
     "name": "stdout",
     "output_type": "stream",
     "text": [
      "channel 2 recording\n",
      "you\n",
      "channel 2 recording\n",
      "channel 2 recording\n"
     ]
    },
    {
     "name": "stderr",
     "output_type": "stream",
     "text": [
      "Exception in thread Thread-13:\n",
      "Traceback (most recent call last):\n",
      "  File \"/Users/f004swn/anaconda3/envs/scrap_hack/lib/python3.8/threading.py\", line 932, in _bootstrap_inner\n",
      "    self.run()\n",
      "  File \"/Users/f004swn/anaconda3/envs/scrap_hack/lib/python3.8/threading.py\", line 870, in run\n",
      "    self._target(*self._args, **self._kwargs)\n",
      "  File \"/var/folders/l2/ydrm4wvj4fv10hb243tjbs0c0000gn/T/ipykernel_71259/1016251939.py\", line 10, in transcribe_data\n",
      "  File \"/var/folders/l2/ydrm4wvj4fv10hb243tjbs0c0000gn/T/ipykernel_71259/3766282363.py\", line 12, in process_transcription\n",
      "  File \"/Users/f004swn/Dropbox (Dartmouth College)/scrap_hack/ArtsIntegrationHack/scripts/transcriber.py\", line 24, in transcribe\n",
      "    result = whisper.decode(model, mel, options)\n",
      "  File \"/Users/f004swn/anaconda3/envs/scrap_hack/lib/python3.8/site-packages/torch/utils/_contextlib.py\", line 115, in decorate_context\n",
      "    return func(*args, **kwargs)\n",
      "  File \"/Users/f004swn/anaconda3/envs/scrap_hack/lib/python3.8/site-packages/whisper/decoding.py\", line 819, in decode\n",
      "    result = DecodingTask(model, options).run(mel)\n",
      "  File \"/Users/f004swn/anaconda3/envs/scrap_hack/lib/python3.8/site-packages/torch/utils/_contextlib.py\", line 115, in decorate_context\n",
      "    return func(*args, **kwargs)\n",
      "  File \"/Users/f004swn/anaconda3/envs/scrap_hack/lib/python3.8/site-packages/whisper/decoding.py\", line 732, in run\n",
      "    tokens, sum_logprobs, no_speech_probs = self._main_loop(audio_features, tokens)\n",
      "  File \"/Users/f004swn/anaconda3/envs/scrap_hack/lib/python3.8/site-packages/whisper/decoding.py\", line 682, in _main_loop\n",
      "    logits = self.inference.logits(tokens, audio_features)\n",
      "  File \"/Users/f004swn/anaconda3/envs/scrap_hack/lib/python3.8/site-packages/whisper/decoding.py\", line 161, in logits\n",
      "    return self.model.decoder(tokens, audio_features, kv_cache=self.kv_cache)\n",
      "  File \"/Users/f004swn/anaconda3/envs/scrap_hack/lib/python3.8/site-packages/torch/nn/modules/module.py\", line 1501, in _call_impl\n",
      "    return forward_call(*args, **kwargs)\n",
      "  File \"/Users/f004swn/anaconda3/envs/scrap_hack/lib/python3.8/site-packages/whisper/model.py\", line 211, in forward\n",
      "    x = block(x, xa, mask=self.mask, kv_cache=kv_cache)\n",
      "  File \"/Users/f004swn/anaconda3/envs/scrap_hack/lib/python3.8/site-packages/torch/nn/modules/module.py\", line 1501, in _call_impl\n",
      "    return forward_call(*args, **kwargs)\n",
      "  File \"/Users/f004swn/anaconda3/envs/scrap_hack/lib/python3.8/site-packages/whisper/model.py\", line 136, in forward\n",
      "    x = x + self.attn(self.attn_ln(x), mask=mask, kv_cache=kv_cache)[0]\n",
      "  File \"/Users/f004swn/anaconda3/envs/scrap_hack/lib/python3.8/site-packages/torch/nn/modules/module.py\", line 1501, in _call_impl\n",
      "    return forward_call(*args, **kwargs)\n",
      "  File \"/Users/f004swn/anaconda3/envs/scrap_hack/lib/python3.8/site-packages/whisper/model.py\", line 90, in forward\n",
      "    wv, qk = self.qkv_attention(q, k, v, mask)\n",
      "  File \"/Users/f004swn/anaconda3/envs/scrap_hack/lib/python3.8/site-packages/whisper/model.py\", line 104, in qkv_attention\n",
      "    qk = qk + mask[:n_ctx, :n_ctx]\n",
      "RuntimeError: The size of tensor a (11) must match the size of tensor b (3) at non-singleton dimension 3\n"
     ]
    },
    {
     "name": "stdout",
     "output_type": "stream",
     "text": [
      "Thank you.\n",
      "channel 2 recording\n"
     ]
    }
   ],
   "source": [
    "transcripts"
   ]
  },
  {
   "cell_type": "code",
   "execution_count": 33,
   "metadata": {},
   "outputs": [
    {
     "name": "stderr",
     "output_type": "stream",
     "text": [
      "Exception in thread Thread-9:\n",
      "Traceback (most recent call last):\n",
      "  File \"/Users/f004swn/anaconda3/envs/scrap_hack/lib/python3.8/threading.py\", line 932, in _bootstrap_inner\n",
      "    self.run()\n",
      "  File \"/Users/f004swn/anaconda3/envs/scrap_hack/lib/python3.8/threading.py\", line 870, in run\n",
      "    self._target(*self._args, **self._kwargs)\n",
      "  File \"/var/folders/l2/ydrm4wvj4fv10hb243tjbs0c0000gn/T/ipykernel_71259/2847660656.py\", line 10, in transcribe_data\n",
      "  File \"/var/folders/l2/ydrm4wvj4fv10hb243tjbs0c0000gn/T/ipykernel_71259/3766282363.py\", line 12, in process_transcription\n",
      "  File \"/Users/f004swn/Dropbox (Dartmouth College)/scrap_hack/ArtsIntegrationHack/scripts/transcriber.py\", line 24, in transcribe\n",
      "    result = whisper.decode(model, mel, options)\n",
      "  File \"/Users/f004swn/anaconda3/envs/scrap_hack/lib/python3.8/site-packages/torch/utils/_contextlib.py\", line 115, in decorate_context\n",
      "    return func(*args, **kwargs)\n",
      "  File \"/Users/f004swn/anaconda3/envs/scrap_hack/lib/python3.8/site-packages/whisper/decoding.py\", line 819, in decode\n",
      "    result = DecodingTask(model, options).run(mel)\n",
      "  File \"/Users/f004swn/anaconda3/envs/scrap_hack/lib/python3.8/site-packages/torch/utils/_contextlib.py\", line 115, in decorate_context\n",
      "    return func(*args, **kwargs)\n",
      "  File \"/Users/f004swn/anaconda3/envs/scrap_hack/lib/python3.8/site-packages/whisper/decoding.py\", line 732, in run\n",
      "    tokens, sum_logprobs, no_speech_probs = self._main_loop(audio_features, tokens)\n",
      "  File \"/Users/f004swn/anaconda3/envs/scrap_hack/lib/python3.8/site-packages/whisper/decoding.py\", line 682, in _main_loop\n",
      "    logits = self.inference.logits(tokens, audio_features)\n",
      "  File \"/Users/f004swn/anaconda3/envs/scrap_hack/lib/python3.8/site-packages/whisper/decoding.py\", line 161, in logits\n",
      "    return self.model.decoder(tokens, audio_features, kv_cache=self.kv_cache)\n",
      "  File \"/Users/f004swn/anaconda3/envs/scrap_hack/lib/python3.8/site-packages/torch/nn/modules/module.py\", line 1501, in _call_impl\n",
      "    return forward_call(*args, **kwargs)\n",
      "  File \"/Users/f004swn/anaconda3/envs/scrap_hack/lib/python3.8/site-packages/whisper/model.py\", line 211, in forward\n",
      "    x = block(x, xa, mask=self.mask, kv_cache=kv_cache)\n",
      "  File \"/Users/f004swn/anaconda3/envs/scrap_hack/lib/python3.8/site-packages/torch/nn/modules/module.py\", line 1501, in _call_impl\n",
      "    return forward_call(*args, **kwargs)\n",
      "  File \"/Users/f004swn/anaconda3/envs/scrap_hack/lib/python3.8/site-packages/whisper/model.py\", line 136, in forward\n",
      "    x = x + self.attn(self.attn_ln(x), mask=mask, kv_cache=kv_cache)[0]\n",
      "  File \"/Users/f004swn/anaconda3/envs/scrap_hack/lib/python3.8/site-packages/torch/nn/modules/module.py\", line 1501, in _call_impl\n",
      "    return forward_call(*args, **kwargs)\n",
      "  File \"/Users/f004swn/anaconda3/envs/scrap_hack/lib/python3.8/site-packages/whisper/model.py\", line 90, in forward\n",
      "    wv, qk = self.qkv_attention(q, k, v, mask)\n",
      "  File \"/Users/f004swn/anaconda3/envs/scrap_hack/lib/python3.8/site-packages/whisper/model.py\", line 104, in qkv_attention\n",
      "    qk = qk + mask[:n_ctx, :n_ctx]\n",
      "RuntimeError: The size of tensor a (11) must match the size of tensor b (3) at non-singleton dimension 3\n"
     ]
    },
    {
     "name": "stdout",
     "output_type": "stream",
     "text": [
      "See you next time!\n",
      "See you next time!\n"
     ]
    },
    {
     "ename": "KeyboardInterrupt",
     "evalue": "",
     "output_type": "error",
     "traceback": [
      "\u001b[0;31m---------------------------------------------------------------------------\u001b[0m",
      "\u001b[0;31mKeyboardInterrupt\u001b[0m                         Traceback (most recent call last)",
      "\u001b[1;32m/Users/f004swn/Dropbox (Dartmouth College)/scrap_hack/ArtsIntegrationHack/scripts/sounddevice_record.ipynb Cell 16\u001b[0m line \u001b[0;36m2\n\u001b[1;32m      <a href='vscode-notebook-cell:/Users/f004swn/Dropbox%20%28Dartmouth%20College%29/scrap_hack/ArtsIntegrationHack/scripts/sounddevice_record.ipynb#X24sZmlsZQ%3D%3D?line=0'>1</a>\u001b[0m \u001b[39m# stop the recorder thread\u001b[39;00m\n\u001b[0;32m----> <a href='vscode-notebook-cell:/Users/f004swn/Dropbox%20%28Dartmouth%20College%29/scrap_hack/ArtsIntegrationHack/scripts/sounddevice_record.ipynb#X24sZmlsZQ%3D%3D?line=1'>2</a>\u001b[0m recorder\u001b[39m.\u001b[39;49mjoin()\n",
      "File \u001b[0;32m~/anaconda3/envs/scrap_hack/lib/python3.8/threading.py:1011\u001b[0m, in \u001b[0;36mThread.join\u001b[0;34m(self, timeout)\u001b[0m\n\u001b[1;32m   1008\u001b[0m     \u001b[39mraise\u001b[39;00m \u001b[39mRuntimeError\u001b[39;00m(\u001b[39m\"\u001b[39m\u001b[39mcannot join current thread\u001b[39m\u001b[39m\"\u001b[39m)\n\u001b[1;32m   1010\u001b[0m \u001b[39mif\u001b[39;00m timeout \u001b[39mis\u001b[39;00m \u001b[39mNone\u001b[39;00m:\n\u001b[0;32m-> 1011\u001b[0m     \u001b[39mself\u001b[39;49m\u001b[39m.\u001b[39;49m_wait_for_tstate_lock()\n\u001b[1;32m   1012\u001b[0m \u001b[39melse\u001b[39;00m:\n\u001b[1;32m   1013\u001b[0m     \u001b[39m# the behavior of a negative timeout isn't documented, but\u001b[39;00m\n\u001b[1;32m   1014\u001b[0m     \u001b[39m# historically .join(timeout=x) for x<0 has acted as if timeout=0\u001b[39;00m\n\u001b[1;32m   1015\u001b[0m     \u001b[39mself\u001b[39m\u001b[39m.\u001b[39m_wait_for_tstate_lock(timeout\u001b[39m=\u001b[39m\u001b[39mmax\u001b[39m(timeout, \u001b[39m0\u001b[39m))\n",
      "File \u001b[0;32m~/anaconda3/envs/scrap_hack/lib/python3.8/threading.py:1027\u001b[0m, in \u001b[0;36mThread._wait_for_tstate_lock\u001b[0;34m(self, block, timeout)\u001b[0m\n\u001b[1;32m   1025\u001b[0m \u001b[39mif\u001b[39;00m lock \u001b[39mis\u001b[39;00m \u001b[39mNone\u001b[39;00m:  \u001b[39m# already determined that the C code is done\u001b[39;00m\n\u001b[1;32m   1026\u001b[0m     \u001b[39massert\u001b[39;00m \u001b[39mself\u001b[39m\u001b[39m.\u001b[39m_is_stopped\n\u001b[0;32m-> 1027\u001b[0m \u001b[39melif\u001b[39;00m lock\u001b[39m.\u001b[39;49macquire(block, timeout):\n\u001b[1;32m   1028\u001b[0m     lock\u001b[39m.\u001b[39mrelease()\n\u001b[1;32m   1029\u001b[0m     \u001b[39mself\u001b[39m\u001b[39m.\u001b[39m_stop()\n",
      "\u001b[0;31mKeyboardInterrupt\u001b[0m: "
     ]
    },
    {
     "name": "stdout",
     "output_type": "stream",
     "text": [
      "channel 2 recording\n"
     ]
    }
   ],
   "source": [
    "# stop the recorder thread\n",
    "recorder.join()"
   ]
  },
  {
   "cell_type": "code",
   "execution_count": 10,
   "metadata": {},
   "outputs": [
    {
     "name": "stdout",
     "output_type": "stream",
     "text": [
      "Transcription: Just testing if this actually works. I just want to see if this works. I love coffee. I love hamburgers, etc.\n",
      "Took 1.2383301258087158 seconds to transcribe\n"
     ]
    }
   ],
   "source": [
    "# record for 10 seconds and try to transcribe\n",
    "recording = np.array([])\n",
    "start = tm.time()\n",
    "with sd.InputStream(channels=CHANNELS, device=device_index, blocksize=BLOCKSIZE, samplerate=RATE) as stream:\n",
    "    while True:\n",
    "        data = stream.read(400)[0]\n",
    "        data = data[:, 0]\n",
    "        recording = np.concatenate((recording, data))\n",
    "\n",
    "        if tm.time() - start > 10:\n",
    "            break\n",
    "\n",
    "filename = 'test_utt.wav'\n",
    "filepath = os.path.join(AUDIOFILE_PATH, filename)\n",
    "write(filepath, RATE, recording)\n",
    "t_start = tm.time()\n",
    "transcription = transcribe(filepath)\n",
    "t_end = tm.time()\n",
    "print(f'Transcription: {transcription}')\n",
    "print(f'Took {t_end - t_start} seconds to transcribe')"
   ]
  },
  {
   "cell_type": "code",
   "execution_count": null,
   "metadata": {},
   "outputs": [],
   "source": []
  }
 ],
 "metadata": {
  "kernelspec": {
   "display_name": "Python 3 (ipykernel)",
   "language": "python",
   "name": "python3"
  },
  "language_info": {
   "codemirror_mode": {
    "name": "ipython",
    "version": 3
   },
   "file_extension": ".py",
   "mimetype": "text/x-python",
   "name": "python",
   "nbconvert_exporter": "python",
   "pygments_lexer": "ipython3",
   "version": "3.8.16"
  }
 },
 "nbformat": 4,
 "nbformat_minor": 4
}
