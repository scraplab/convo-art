{
 "cells": [
  {
   "cell_type": "markdown",
   "metadata": {
    "collapsed": false
   },
   "source": [
    "# Live Transcriber (sounddevice version)\n",
    "This script is for finding the Scarlett and recording audio from it. It will then transcribe the audio and save the text to a csv file in real time.\n",
    "\n",
    "It also implements multithreading so that the recording and transcription can happen simultaneously.\n",
    "\n",
    "\n",
    "# Game Plan\n",
    "- Only one recording thread. The thread is continuously listening and internally checks if each channel is speaking, with speaker status being independent between the channels. \n",
    "- At the end of a chunk on a given channel, the accumulated recording is then sent to a transcriber thread. \n",
    "- So, at any given time, only one recording thread is activated while a number of transcriber threads can be operating. \n",
    "- ThreadLock will be used to save data to .csv. "
   ]
  },
  {
   "cell_type": "code",
   "execution_count": 1,
   "metadata": {
    "ExecuteTime": {
     "end_time": "2023-09-29T18:53:34.570276Z",
     "start_time": "2023-09-29T18:53:29.093705Z"
    },
    "collapsed": false
   },
   "outputs": [],
   "source": [
    "import wave\n",
    "import audioop\n",
    "import os\n",
    "import pandas as pd\n",
    "import numpy as np\n",
    "import time as tm\n",
    "import whisper\n",
    "from transcriber import transcribe\n",
    "import threading\n",
    "from pathlib import Path\n",
    "import queue\n",
    "import sounddevice as sd\n",
    "from scipy.io.wavfile import write\n",
    "import soundfile as sf\n",
    "import librosa\n",
    "import matplotlib.pyplot as plt\n",
    "import librosa.display\n",
    "import IPython.display as ipd"
   ]
  },
  {
   "cell_type": "code",
   "execution_count": 2,
   "metadata": {
    "ExecuteTime": {
     "end_time": "2023-09-29T18:53:44.761925Z",
     "start_time": "2023-09-29T18:53:44.753822Z"
    }
   },
   "outputs": [
    {
     "name": "stdout",
     "output_type": "stream",
     "text": [
      "Using device 0: Scarlett 2i2 USB\n"
     ]
    }
   ],
   "source": [
    "#find the Scarlett\n",
    "devices = sd.query_devices()\n",
    "device_index = None\n",
    "for i, device_info in enumerate(devices):\n",
    "    if \"Scarlett\" in device_info[\"name\"] and device_info[\"max_input_channels\"] > 0:\n",
    "        device_index = i\n",
    "        break\n",
    "\n",
    "if device_index is None:\n",
    "    raise RuntimeError(\"Could not find Scarlett device\")\n",
    "else:\n",
    "    print(f'Using device {device_index}: {devices[device_index][\"name\"]}')"
   ]
  },
  {
   "cell_type": "code",
   "execution_count": 3,
   "metadata": {
    "ExecuteTime": {
     "end_time": "2023-09-29T19:15:51.873899Z",
     "start_time": "2023-09-29T19:15:51.839068Z"
    }
   },
   "outputs": [],
   "source": [
    "CHANNELS = 2\n",
    "global RATE\n",
    "RATE = 16000\n",
    "global CHUNK\n",
    "CHUNK = 400\n",
    "BLOCKSIZE = 16000\n",
    "THRESHOLD = 0.0015  # Adjust this value based on your microphone and environment\n",
    "AUDIOFILE_PATH = '/Users/f004swn/Dropbox (Dartmouth College)/scrap_hack/ArtsIntegrationHack/scripts/audio_outputs'\n",
    "GAP = 2 # Length of silence allowed before cut\n",
    "SESSION_TIME = 3 # number of mins the session can be\n",
    "AUDIOFILE_PATH = '/Users/f004swn/Dropbox (Dartmouth College)/scrap_hack/ArtsIntegrationHack/scripts/audio_outputs'\n",
    "GAP = 2 # Length of silence allowed before cut\n",
    "SESSION_ACTIVE = True\n",
    "MINIMUM_UTTERANCE_LENGTH = 1 # in seconds"
   ]
  },
  {
   "cell_type": "code",
   "execution_count": 4,
   "metadata": {},
   "outputs": [],
   "source": [
    "transcripts = {}\n",
    "global transcript_queue\n",
    "transcription_queue = queue.Queue()"
   ]
  },
  {
   "cell_type": "markdown",
   "metadata": {},
   "source": [
    "# Setting up the callback\n",
    "The `sounddevice` library can record by passing a callback function to the `sd.InputStream` stream. It is in the callback that you are doing the listening, speaking status detection, and writing of data. This will continuously run."
   ]
  },
  {
   "cell_type": "code",
   "execution_count": 5,
   "metadata": {},
   "outputs": [],
   "source": [
    "def rms(data):\n",
    "    return np.sqrt(np.mean(np.square(data)))"
   ]
  },
  {
   "cell_type": "code",
   "execution_count": 6,
   "metadata": {},
   "outputs": [],
   "source": [
    "class RecorderThread(threading.Thread):\n",
    "    def __init__(self):\n",
    "        super(RecorderThread, self).__init__()\n",
    "        self.channel1_recording = False\n",
    "        self.channel2_recording = False\n",
    "        self.ch1_data, self.ch2_data = np.array([]), np.array([])\n",
    "        self.ch1_last, self.ch2_last = tm.time(), tm.time()\n",
    "        self.ch1_start, self.ch2_start = None, None\n",
    "\n",
    "    def record_dyad(self, indata, frames, time, status=None):\n",
    "        # Get channel data and calulate RMS for each channel separately\n",
    "        channel1_rms, channel2_rms = rms(indata[:, 0]), rms(indata[:, 1])\n",
    "        # If either channel is above the threshold, start recording\n",
    "        if channel1_rms > THRESHOLD:\n",
    "            if self.channel1_recording == False:\n",
    "                print('channel 1 recording')\n",
    "                self.ch1_last = tm.time()\n",
    "                self.channel1_recording = True\n",
    "                self.ch1_start = tm.time()\n",
    "                self.ch1_data = np.concatenate((self.ch1_data, indata[:, 0]))\n",
    "            else:\n",
    "                self.ch1_last = tm.time()\n",
    "                self.ch1_data = np.concatenate((self.ch1_data, indata[:, 0]))\n",
    "        else:\n",
    "            if self.channel1_recording == True:\n",
    "                if (tm.time() - self.ch1_last > GAP):\n",
    "                    self.channel1_recording = False\n",
    "                    packet = {'channel': 1, 'data': self.ch1_data, 'start_time': self.ch1_start, 'end_time': self.ch1_last}\n",
    "                    self.ch1_data = np.array([])\n",
    "                    transcription_queue.put(packet)\n",
    "                    self.ch1_start, self.ch1_last = None, None\n",
    "\n",
    "        if channel2_rms > THRESHOLD:\n",
    "            if self.channel2_recording == False:\n",
    "                self.ch2_last = tm.time()\n",
    "                self.channel2_recording = True\n",
    "                self.ch2_start = tm.time()\n",
    "                self.ch2_data = np.concatenate((self.ch2_data, indata[:, 1]))\n",
    "            else:\n",
    "                self.ch2_last = tm.time()\n",
    "                self.ch2_data = np.concatenate((self.ch2_data, indata[:, 1]))\n",
    "        else:\n",
    "            if self.channel2_recording == True:\n",
    "                if (tm.time() - self.ch2_last > GAP):\n",
    "                    self.channel2_recording = False\n",
    "                    packet = {'channel': 2, 'data': self.ch2_data, 'start_time': self.ch2_start, 'end_time': self.ch2_last}\n",
    "                    self.ch2_data = np.array([])\n",
    "                    transcription_queue.put(packet)\n",
    "                    self.ch2_start, self.ch2_last = None, None\n",
    "\n",
    "    def run(self):\n",
    "        with sd.InputStream(channels=CHANNELS, device=device_index, callback=self.record_dyad, blocksize=CHUNK, samplerate=RATE):\n",
    "            while True:\n",
    "                # run until the session is over\n",
    "                if SESSION_ACTIVE == False:\n",
    "                    break"
   ]
  },
  {
   "cell_type": "code",
   "execution_count": 7,
   "metadata": {},
   "outputs": [
    {
     "data": {
      "text/plain": [
       "<matplotlib.lines.Line2D at 0x7faef2bfdd00>"
      ]
     },
     "execution_count": 7,
     "metadata": {},
     "output_type": "execute_result"
    },
    {
     "data": {
      "image/png": "[encoded data removed]",
      "text/plain": [
       "<Figure size 640x480 with 1 Axes>"
      ]
     },
     "metadata": {},
     "output_type": "display_data"
    }
   ],
   "source": [
    "# record from channel 1 for 10 seconds to get rms values and then visualize them\n",
    "rms_vals = []\n",
    "start = tm.time()\n",
    "with sd.InputStream(channels=CHANNELS, device=device_index, blocksize=BLOCKSIZE, samplerate=RATE) as stream:\n",
    "    while True:\n",
    "        data = stream.read(400)[0]\n",
    "        data = data[:, 1]\n",
    "        rms_val = rms(data)\n",
    "        rms_vals.append(rms_val)\n",
    "        if tm.time() - start > 10:\n",
    "            break\n",
    "\n",
    "plt.plot(rms_vals)\n",
    "# plot a horizontal line at the threshold value\n",
    "plt.axhline(y=0.0015, color='r', linestyle='-')"
   ]
  },
  {
   "cell_type": "code",
   "execution_count": 16,
   "metadata": {},
   "outputs": [
    {
     "data": {
      "image/png": "[encoded data removed]",
      "text/plain": [
       "<Figure size 640x480 with 1 Axes>"
      ]
     },
     "metadata": {},
     "output_type": "display_data"
    }
   ],
   "source": [
    "plt.hist(rms_vals, bins=100);"
   ]
  },
  {
   "cell_type": "code",
   "execution_count": 7,
   "metadata": {},
   "outputs": [],
   "source": [
    "global n_utterances\n",
    "n_utterances = 0\n",
    "def process_transcription(data_dict):\n",
    "    # do nothing if the audio is too short\n",
    "    global n_utterances\n",
    "    n_utterances += 1\n",
    "    # save audio file to disk\n",
    "    filename = f'utterance_{n_utterances}.wav'\n",
    "    filepath = os.path.join(AUDIOFILE_PATH, filename)\n",
    "    write(filepath, RATE, data_dict['data'])\n",
    "    data_dict['filepath'] = filepath\n",
    "    transcription = transcribe(filepath)\n",
    "    data_dict['transcription'] = transcription\n",
    "    # delete the audio data from the data_dict\n",
    "    del data_dict['data']\n",
    "    return n_utterances, data_dict"
   ]
  },
  {
   "cell_type": "code",
   "execution_count": 11,
   "metadata": {},
   "outputs": [
    {
     "ename": "KeyboardInterrupt",
     "evalue": "",
     "output_type": "error",
     "traceback": [
      "\u001b[0;31m---------------------------------------------------------------------------\u001b[0m",
      "\u001b[0;31mKeyboardInterrupt\u001b[0m                         Traceback (most recent call last)",
      "\u001b[1;32m/Users/f004swn/Dropbox (Dartmouth College)/scrap_hack/ArtsIntegrationHack/scripts/sounddevice_record.ipynb Cell 12\u001b[0m line \u001b[0;36m3\n\u001b[1;32m     <a href='vscode-notebook-cell:/Users/f004swn/Dropbox%20%28Dartmouth%20College%29/scrap_hack/ArtsIntegrationHack/scripts/sounddevice_record.ipynb#X14sZmlsZQ%3D%3D?line=31'>32</a>\u001b[0m recorder\u001b[39m.\u001b[39mstart()\n\u001b[1;32m     <a href='vscode-notebook-cell:/Users/f004swn/Dropbox%20%28Dartmouth%20College%29/scrap_hack/ArtsIntegrationHack/scripts/sounddevice_record.ipynb#X14sZmlsZQ%3D%3D?line=33'>34</a>\u001b[0m \u001b[39m# wait 30 seconds then stop all the threads\u001b[39;00m\n\u001b[0;32m---> <a href='vscode-notebook-cell:/Users/f004swn/Dropbox%20%28Dartmouth%20College%29/scrap_hack/ArtsIntegrationHack/scripts/sounddevice_record.ipynb#X14sZmlsZQ%3D%3D?line=34'>35</a>\u001b[0m tm\u001b[39m.\u001b[39;49msleep(\u001b[39m30\u001b[39;49m)\n\u001b[1;32m     <a href='vscode-notebook-cell:/Users/f004swn/Dropbox%20%28Dartmouth%20College%29/scrap_hack/ArtsIntegrationHack/scripts/sounddevice_record.ipynb#X14sZmlsZQ%3D%3D?line=35'>36</a>\u001b[0m SESSION_ACTIVE \u001b[39m=\u001b[39m \u001b[39mFalse\u001b[39;00m\n\u001b[1;32m     <a href='vscode-notebook-cell:/Users/f004swn/Dropbox%20%28Dartmouth%20College%29/scrap_hack/ArtsIntegrationHack/scripts/sounddevice_record.ipynb#X14sZmlsZQ%3D%3D?line=36'>37</a>\u001b[0m recorder\u001b[39m.\u001b[39mjoin()\n",
      "\u001b[0;31mKeyboardInterrupt\u001b[0m: "
     ]
    }
   ],
   "source": [
    "\n",
    "# Function that will process the data\n",
    "def transcribe_data():\n",
    "    while True:\n",
    "        # Get data from the queue, block if necessary until an item is available\n",
    "        utterance_dict = transcription_queue.get()\n",
    "        if utterance_dict is None:\n",
    "            break  # None is the signal to stop\n",
    "\n",
    "        \n",
    "        out = process_transcription(utterance_dict)\n",
    "        if out is None:\n",
    "            continue\n",
    "        else:\n",
    "            utter_n, utterance_info = out\n",
    "        print(utterance_info['transcription'])\n",
    "        transcripts[utter_n] = utterance_info\n",
    "\n",
    "        # Signal that the task is done\n",
    "        transcription_queue.task_done()\n",
    "\n",
    "# Number of worker threads\n",
    "num_worker_threads = 4\n",
    "\n",
    "# Create and start the data processing threads\n",
    "workers = []\n",
    "for i in range(num_worker_threads):\n",
    "    t = threading.Thread(target=transcribe_data)\n",
    "    t.start()\n",
    "    workers.append(t)\n",
    "\n",
    "recorder = RecorderThread()\n",
    "recorder.start()\n",
    "\n",
    "# wait 30 seconds then stop all the threads\n",
    "tm.sleep(30)\n",
    "SESSION_ACTIVE = False\n",
    "recorder.join()\n",
    "for t in workers:\n",
    "    t.join()\n",
    "    \n",
    "# # Once done collecting data, join on the queue to allow processing to finish\n",
    "# data_queue.join()\n",
    "\n",
    "# # Stop the worker threads by putting None into the queue for each worker\n",
    "# for i in range(num_worker_threads):\n",
    "#     data_queue.put(None)\n",
    "# for t in workers:\n",
    "#     t.join()\n"
   ]
  },
  {
   "cell_type": "code",
   "execution_count": 10,
   "metadata": {},
   "outputs": [],
   "source": [
    "# cledar the queue \n",
    "while not transcription_queue.empty():\n",
    "    transcription_queue.get()\n",
    "    transcription_queue.task_done()"
   ]
  },
  {
   "cell_type": "code",
   "execution_count": 12,
   "metadata": {},
   "outputs": [
    {
     "data": {
      "text/plain": [
       "{4: {'channel': 1,\n",
       "  'start_time': 1699221585.9679208,\n",
       "  'end_time': 1699221585.9679182,\n",
       "  'filepath': '/Users/f004swn/Dropbox (Dartmouth College)/scrap_hack/ArtsIntegrationHack/scripts/audio_outputs/utterance_3.wav',\n",
       "  'transcription': 'you'},\n",
       " 5: {'channel': 2,\n",
       "  'start_time': 1699221590.184931,\n",
       "  'end_time': 1699221590.1849222,\n",
       "  'filepath': '/Users/f004swn/Dropbox (Dartmouth College)/scrap_hack/ArtsIntegrationHack/scripts/audio_outputs/utterance_5.wav',\n",
       "  'transcription': 'you'},\n",
       " 6: {'channel': 1,\n",
       "  'start_time': 1699221592.482684,\n",
       "  'end_time': 1699221597.654526,\n",
       "  'filepath': '/Users/f004swn/Dropbox (Dartmouth College)/scrap_hack/ArtsIntegrationHack/scripts/audio_outputs/utterance_6.wav',\n",
       "  'transcription': 'you'},\n",
       " 7: {'channel': 2,\n",
       "  'start_time': 1699221602.566581,\n",
       "  'end_time': 1699221602.95983,\n",
       "  'filepath': '/Users/f004swn/Dropbox (Dartmouth College)/scrap_hack/ArtsIntegrationHack/scripts/audio_outputs/utterance_7.wav',\n",
       "  'transcription': 'Yeah.'},\n",
       " 8: {'channel': 2,\n",
       "  'start_time': 1699221605.059932,\n",
       "  'end_time': 1699221605.3179572,\n",
       "  'filepath': '/Users/f004swn/Dropbox (Dartmouth College)/scrap_hack/ArtsIntegrationHack/scripts/audio_outputs/utterance_8.wav',\n",
       "  'transcription': 'Yes.'}}"
      ]
     },
     "execution_count": 12,
     "metadata": {},
     "output_type": "execute_result"
    }
   ],
   "source": [
    "transcripts"
   ]
  },
  {
   "cell_type": "code",
   "execution_count": 10,
   "metadata": {},
   "outputs": [
    {
     "name": "stdout",
     "output_type": "stream",
     "text": [
      "Transcription: Just testing if this actually works. I just want to see if this works. I love coffee. I love hamburgers, etc.\n",
      "Took 1.2383301258087158 seconds to transcribe\n"
     ]
    }
   ],
   "source": [
    "# record for 10 seconds and try to transcribe\n",
    "recording = np.array([])\n",
    "start = tm.time()\n",
    "with sd.InputStream(channels=CHANNELS, device=device_index, blocksize=BLOCKSIZE, samplerate=RATE) as stream:\n",
    "    while True:\n",
    "        data = stream.read(400)[0]\n",
    "        data = data[:, 0]\n",
    "        recording = np.concatenate((recording, data))\n",
    "\n",
    "        if tm.time() - start > 10:\n",
    "            break\n",
    "\n",
    "filename = 'test_utt.wav'\n",
    "filepath = os.path.join(AUDIOFILE_PATH, filename)\n",
    "write(filepath, RATE, recording)\n",
    "t_start = tm.time()\n",
    "transcription = transcribe(filepath)\n",
    "t_end = tm.time()\n",
    "print(f'Transcription: {transcription}')\n",
    "print(f'Took {t_end - t_start} seconds to transcribe')"
   ]
  },
  {
   "cell_type": "code",
   "execution_count": null,
   "metadata": {},
   "outputs": [],
   "source": []
  }
 ],
 "metadata": {
  "kernelspec": {
   "display_name": "Python 3 (ipykernel)",
   "language": "python",
   "name": "python3"
  },
  "language_info": {
   "codemirror_mode": {
    "name": "ipython",
    "version": 3
   },
   "file_extension": ".py",
   "mimetype": "text/x-python",
   "name": "python",
   "nbconvert_exporter": "python",
   "pygments_lexer": "ipython3",
   "version": "3.8.16"
  }
 },
 "nbformat": 4,
 "nbformat_minor": 4
}
