{
 "cells": [
  {
   "cell_type": "code",
   "execution_count": 26,
   "metadata": {},
   "outputs": [],
   "source": [
    "import pyaudio\n",
    "import wave\n",
    "import audioop\n",
    "import os\n",
    "import pandas as pd\n",
    "import numpy as np\n",
    "import time\n",
    "import whisper\n",
    "from transcriber import transcribe\n",
    "import threading"
   ]
  },
  {
   "cell_type": "code",
   "execution_count": 42,
   "metadata": {},
   "outputs": [],
   "source": [
    "FORMAT = pyaudio.paInt16\n",
    "CHANNELS = 2\n",
    "#RATE = 44100\n",
    "RATE = 16000\n",
    "CHUNK = 10000\n",
    "THRESHOLD = 1500  # Adjust this value based on your microphone and environment\n",
    "AUDIOFILE_PATH = '/Users/f004swn/Dropbox (Dartmouth College)/scrap_hack/ArtsIntegrationHack/scripts/audio_outputs'"
   ]
  },
  {
   "cell_type": "code",
   "execution_count": 28,
   "metadata": {},
   "outputs": [],
   "source": [
    "GAP = 2 # Length of silence allowed before cut\n",
    "SESSION_TIME = 3 # number of mins the session can be"
   ]
  },
  {
   "cell_type": "code",
   "execution_count": 29,
   "metadata": {},
   "outputs": [],
   "source": [
    "p = pyaudio.PyAudio()"
   ]
  },
  {
   "cell_type": "code",
   "execution_count": 30,
   "metadata": {},
   "outputs": [],
   "source": [
    "#find the Scarlett\n",
    "devices = []\n",
    "device_index = None\n",
    "for i in range(p.get_device_count()):\n",
    "    device_info = p.get_device_info_by_index(i)\n",
    "    devices.append(device_info)\n",
    "    if \"Scarlett\" in device_info[\"name\"] and device_info[\"maxInputChannels\"] > 0:\n",
    "        device_index = i\n",
    "        break"
   ]
  },
  {
   "cell_type": "code",
   "execution_count": 31,
   "metadata": {},
   "outputs": [
    {
     "name": "stdout",
     "output_type": "stream",
     "text": [
      "Waiting for speech...\n"
     ]
    }
   ],
   "source": [
    "print(\"Waiting for speech...\")"
   ]
  },
  {
   "cell_type": "code",
   "execution_count": 32,
   "metadata": {},
   "outputs": [],
   "source": [
    "stream = p.open(input_device_index=device_index,\n",
    "                format=FORMAT,\n",
    "                channels=CHANNELS,\n",
    "                rate=RATE,\n",
    "                input=True,\n",
    "                frames_per_buffer=CHUNK)"
   ]
  },
  {
   "cell_type": "code",
   "execution_count": 43,
   "metadata": {},
   "outputs": [
    {
     "name": "stdout",
     "output_type": "stream",
     "text": [
      "Recording started\n",
      "Recording stopped\n",
      "Transcribing...\n",
      "mice, mouses, geese, and goose.\n"
     ]
    },
    {
     "ename": "KeyboardInterrupt",
     "evalue": "",
     "output_type": "error",
     "traceback": [
      "\u001b[0;31m---------------------------------------------------------------------------\u001b[0m",
      "\u001b[0;31mKeyboardInterrupt\u001b[0m                         Traceback (most recent call last)",
      "Cell \u001b[0;32mIn[43], line 14\u001b[0m\n\u001b[1;32m     12\u001b[0m     \u001b[38;5;28mprint\u001b[39m(\u001b[38;5;124m\"\u001b[39m\u001b[38;5;124mEnding session\u001b[39m\u001b[38;5;124m\"\u001b[39m)\n\u001b[1;32m     13\u001b[0m     \u001b[38;5;28;01mbreak\u001b[39;00m\n\u001b[0;32m---> 14\u001b[0m data \u001b[38;5;241m=\u001b[39m \u001b[43mstream\u001b[49m\u001b[38;5;241;43m.\u001b[39;49m\u001b[43mread\u001b[49m\u001b[43m(\u001b[49m\u001b[43mCHUNK\u001b[49m\u001b[43m,\u001b[49m\u001b[43m \u001b[49m\u001b[43mexception_on_overflow\u001b[49m\u001b[38;5;241;43m=\u001b[39;49m\u001b[38;5;28;43;01mFalse\u001b[39;49;00m\u001b[43m)\u001b[49m\n\u001b[1;32m     15\u001b[0m rms \u001b[38;5;241m=\u001b[39m audioop\u001b[38;5;241m.\u001b[39mrms(data, \u001b[38;5;241m2\u001b[39m)  \u001b[38;5;66;03m# Calculate Root Mean Square (RMS) volume\u001b[39;00m\n\u001b[1;32m     16\u001b[0m \u001b[38;5;28;01mif\u001b[39;00m rms \u001b[38;5;241m>\u001b[39m THRESHOLD \u001b[38;5;129;01mand\u001b[39;00m \u001b[38;5;129;01mnot\u001b[39;00m recording:  \u001b[38;5;66;03m# Start recording\u001b[39;00m\n",
      "File \u001b[0;32m~/anaconda3/envs/scrap_hack/lib/python3.8/site-packages/pyaudio/__init__.py:570\u001b[0m, in \u001b[0;36mPyAudio.Stream.read\u001b[0;34m(self, num_frames, exception_on_overflow)\u001b[0m\n\u001b[1;32m    567\u001b[0m \u001b[38;5;28;01mif\u001b[39;00m \u001b[38;5;129;01mnot\u001b[39;00m \u001b[38;5;28mself\u001b[39m\u001b[38;5;241m.\u001b[39m_is_input:\n\u001b[1;32m    568\u001b[0m     \u001b[38;5;28;01mraise\u001b[39;00m \u001b[38;5;167;01mIOError\u001b[39;00m(\u001b[38;5;124m\"\u001b[39m\u001b[38;5;124mNot input stream\u001b[39m\u001b[38;5;124m\"\u001b[39m,\n\u001b[1;32m    569\u001b[0m                   paCanNotReadFromAnOutputOnlyStream)\n\u001b[0;32m--> 570\u001b[0m \u001b[38;5;28;01mreturn\u001b[39;00m \u001b[43mpa\u001b[49m\u001b[38;5;241;43m.\u001b[39;49m\u001b[43mread_stream\u001b[49m\u001b[43m(\u001b[49m\u001b[38;5;28;43mself\u001b[39;49m\u001b[38;5;241;43m.\u001b[39;49m\u001b[43m_stream\u001b[49m\u001b[43m,\u001b[49m\u001b[43m \u001b[49m\u001b[43mnum_frames\u001b[49m\u001b[43m,\u001b[49m\n\u001b[1;32m    571\u001b[0m \u001b[43m                      \u001b[49m\u001b[43mexception_on_overflow\u001b[49m\u001b[43m)\u001b[49m\n",
      "\u001b[0;31mKeyboardInterrupt\u001b[0m: "
     ]
    }
   ],
   "source": [
    "# init dataframe\n",
    "output_info = pd.DataFrame(columns=['audio_path', 'text'])\n",
    "output_info.to_csv('session_output.csv')\n",
    "overall_start = time.time()\n",
    "\n",
    "frames = []\n",
    "recording = False\n",
    "count = -1\n",
    "\n",
    "while True:\n",
    "    if time.time() - overall_start > 60*SESSION_TIME:\n",
    "        print(\"Ending session\")\n",
    "        break\n",
    "    data = stream.read(CHUNK, exception_on_overflow=False)\n",
    "    rms = audioop.rms(data, 2)  # Calculate Root Mean Square (RMS) volume\n",
    "    if rms > THRESHOLD and not recording:  # Start recording\n",
    "        print(\"Recording started\")\n",
    "        recording = True\n",
    "        last = time.time()\n",
    "    elif rms < THRESHOLD and recording and (time.time()-last > GAP): # Stop recording\n",
    "        count+=1\n",
    "        print(\"Recording stopped\")\n",
    "        recording = False\n",
    "        filename = os.path.join(AUDIOFILE_PATH, \"output_\"+str(count)+\".wav\")\n",
    "        wf = wave.open(filename, \"wb\")\n",
    "        wf.setnchannels(CHANNELS)\n",
    "        wf.setsampwidth(p.get_sample_size(FORMAT))\n",
    "        wf.setframerate(RATE) \n",
    "        outDat = b\"\".join(frames)\n",
    "        frames = []\n",
    "        wf.writeframes(outDat)\n",
    "        wf.close()\n",
    "        print(\"Transcribing...\")\n",
    "        text = transcribe(filename)\n",
    "        print(text)\n",
    "        newRow = pd.DataFrame.from_dict(dict(zip(['audio_path', 'text'], [[os.path.abspath(filename)], [text]])))\n",
    "        output_info = pd.concat([output_info, newRow], ignore_index=True)\n",
    "        output_info.to_csv('session_output.csv')\n",
    "        \n",
    "    if recording:\n",
    "        frames.append(data)\n",
    "        if rms > THRESHOLD:\n",
    "            last = time.time()\n",
    "            \n",
    "# Need to add another condition check so that the loop breaks after a given period of time or \n",
    "\n"
   ]
  },
  {
   "cell_type": "markdown",
   "metadata": {},
   "source": [
    "This needs to be restructured so that a new thread only gets instantiated if I start talking again while the previous thread completes. "
   ]
  },
  {
   "cell_type": "code",
   "execution_count": null,
   "metadata": {},
   "outputs": [],
   "source": []
  }
 ],
 "metadata": {
  "kernelspec": {
   "display_name": "Python 3 (ipykernel)",
   "language": "python",
   "name": "python3"
  },
  "language_info": {
   "codemirror_mode": {
    "name": "ipython",
    "version": 3
   },
   "file_extension": ".py",
   "mimetype": "text/x-python",
   "name": "python",
   "nbconvert_exporter": "python",
   "pygments_lexer": "ipython3",
   "version": "3.8.16"
  }
 },
 "nbformat": 4,
 "nbformat_minor": 4
}
